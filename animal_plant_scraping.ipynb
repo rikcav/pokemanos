{
  "nbformat": 4,
  "nbformat_minor": 0,
  "metadata": {
    "colab": {
      "provenance": [],
      "include_colab_link": true
    },
    "kernelspec": {
      "name": "python3",
      "display_name": "Python 3"
    },
    "language_info": {
      "name": "python"
    }
  },
  "cells": [
    {
      "cell_type": "markdown",
      "metadata": {
        "id": "view-in-github",
        "colab_type": "text"
      },
      "source": [
        "<a href=\"https://colab.research.google.com/github/rikcav/pokemanos/blob/main/animal_plant_scraping.ipynb\" target=\"_parent\"><img src=\"https://colab.research.google.com/assets/colab-badge.svg\" alt=\"Open In Colab\"/></a>"
      ]
    },
    {
      "cell_type": "code",
      "source": [
        "import requests\n",
        "from bs4 import BeautifulSoup\n",
        "import pandas as pd\n",
        "\n",
        "url = 'https://bulbapedia.bulbagarden.net/wiki/User:Reshi643/Pok%C3%A9mon_designed_after_animals_or_plants'\n",
        "\n",
        "# solicitação GET\n",
        "response = requests.get(url)\n",
        "\n",
        "# se foi bem sucedida\n",
        "if response.status_code == 200:\n",
        "    soup = BeautifulSoup(response.content, 'html.parser')\n",
        "    animal_sections = soup.find_all('span', {'class': 'mw-headline'})\n",
        "\n",
        "    data = []\n",
        "\n",
        "    for section in animal_sections:\n",
        "        # Extraindo o título do animal\n",
        "        animal_title = section.get_text()\n",
        "        table = section.find_next('table')\n",
        "        if table:\n",
        "            # Extraindo os Pokémon baseados\n",
        "            pokemon_list = [(link.text, animal_title) for link in table.find_all('a') if 'Pokémon' in link.get('title', '')]\n",
        "\n",
        "            if pokemon_list:\n",
        "                data.extend(pokemon_list)\n",
        "\n",
        "    # Criando DataFrame\n",
        "    df = pd.DataFrame(data, columns=['pokemon', 'specific_type'])\n",
        "    print(df)\n",
        "else:\n",
        "    print('Erro ao acessar a página.')"
      ],
      "metadata": {
        "colab": {
          "base_uri": "https://localhost:8080/"
        },
        "id": "E6dRVI9jTSe_",
        "outputId": "35d1f3e7-a695-4617-e9ef-0ef76503266b"
      },
      "execution_count": null,
      "outputs": [
        {
          "output_type": "stream",
          "name": "stdout",
          "text": [
            "         pokemon      specific_type\n",
            "0         Dreepy  Amphibian Pokémon\n",
            "1       Drakloak  Amphibian Pokémon\n",
            "2      Dragapult  Amphibian Pokémon\n",
            "3         Dreepy  Diplocaulus-based\n",
            "4       Drakloak  Diplocaulus-based\n",
            "...          ...                ...\n",
            "1101    Parasect    Tōchūkasō-based\n",
            "1102   Toedscool     Wood ear-based\n",
            "1103  Toedscruel     Wood ear-based\n",
            "1104     Fidough        Yeast-based\n",
            "1105    Dachsbun        Yeast-based\n",
            "\n",
            "[1106 rows x 2 columns]\n"
          ]
        }
      ]
    },
    {
      "cell_type": "markdown",
      "source": [
        "Criando tabela de super tipo"
      ],
      "metadata": {
        "id": "cfWzlzQ1rNVX"
      }
    },
    {
      "cell_type": "code",
      "source": [
        "import requests\n",
        "from bs4 import BeautifulSoup\n",
        "import pandas as pd\n",
        "\n",
        "url = 'https://bulbapedia.bulbagarden.net/wiki/User:Reshi643/Pok%C3%A9mon_designed_after_animals_or_plants'\n",
        "\n",
        "# solicitação GET\n",
        "response = requests.get(url)\n",
        "\n",
        "# se foi bem sucedida\n",
        "if response.status_code == 200:\n",
        "    soup = BeautifulSoup(response.content, 'html.parser')\n",
        "    animal_sections = soup.find_all('span', {'class': 'mw-headline'})\n",
        "\n",
        "    data = []\n",
        "    super_type_data = []\n",
        "    super_type = ''\n",
        "\n",
        "    for section in animal_sections:\n",
        "        # Extraindo o título do animal\n",
        "        animal_title = section.get_text()\n",
        "\n",
        "        if 'Pokémon' in animal_title:\n",
        "            super_type = animal_title\n",
        "\n",
        "        table = section.find_next('table')\n",
        "        if table:\n",
        "            # Extraindo os Pokémon baseados\n",
        "            pokemon_list = [(link.text, super_type) for link in table.find_all('a') if 'Pokémon' in link.get('title', '')]\n",
        "\n",
        "            if pokemon_list:\n",
        "                data.extend(pokemon_list)\n",
        "\n",
        "    # Criando DataFrame\n",
        "    super_type_df = pd.DataFrame(data, columns=['pokemon', 'super_type'])\n",
        "else:\n",
        "    print('Erro ao acessar a página.')\n"
      ],
      "metadata": {
        "id": "ekcafAwFqcgH"
      },
      "execution_count": null,
      "outputs": []
    },
    {
      "cell_type": "markdown",
      "source": [
        "Excluindo o Super Tipo\n"
      ],
      "metadata": {
        "id": "eHWcbjbEiW7G"
      }
    },
    {
      "cell_type": "code",
      "source": [
        "import requests\n",
        "from bs4 import BeautifulSoup\n",
        "import pandas as pd\n",
        "\n",
        "# URL do site\n",
        "url = 'https://bulbapedia.bulbagarden.net/wiki/User:Reshi643/Pok%C3%A9mon_designed_after_animals_or_plants'\n",
        "\n",
        "# solicitação GET\n",
        "response = requests.get(url)\n",
        "\n",
        "# se foi bem sucedida\n",
        "if response.status_code == 200:\n",
        "    soup = BeautifulSoup(response.content, 'html.parser')\n",
        "    animal_sections = soup.find_all('span', {'class': 'mw-headline'})\n",
        "\n",
        "    data = []\n",
        "\n",
        "    for section in animal_sections:\n",
        "        # Extraindo o título do animal\n",
        "        animal_title = section.get_text()\n",
        "\n",
        "        # Excluir as superclasses\n",
        "        if 'Pokémon' in animal_title:\n",
        "            continue\n",
        "\n",
        "        table = section.find_next('table')\n",
        "        if table:\n",
        "            # Extraindo os Pokémon baseados\n",
        "            pokemon_list = [(link.text, animal_title) for link in table.find_all('a') if 'Pokémon' in link.get('title', '')]\n",
        "\n",
        "            if pokemon_list:\n",
        "                data.extend(pokemon_list)\n",
        "\n",
        "    # Criando DataFrame\n",
        "    df = pd.DataFrame(data, columns=['Pokémon', 'Tipo de Animal'])\n",
        "\n",
        "else:\n",
        "    print('Erro ao acessar a página.')\n"
      ],
      "metadata": {
        "id": "Q25johqIeqoy"
      },
      "execution_count": null,
      "outputs": []
    },
    {
      "cell_type": "markdown",
      "source": [
        "Rônald"
      ],
      "metadata": {
        "id": "P-cJLkV0ieGg"
      }
    },
    {
      "cell_type": "code",
      "source": [
        "import requests\n",
        "from bs4 import BeautifulSoup\n",
        "import pandas as pd\n",
        "\n",
        "# URL do site\n",
        "url = 'https://bulbapedia.bulbagarden.net/wiki/User:Reshi643/Pok%C3%A9mon_designed_after_animals_or_plants'\n",
        "\n",
        "# solicitação GET\n",
        "response = requests.get(url)\n",
        "\n",
        "# se foi bem sucedida\n",
        "if response.status_code == 200:\n",
        "    soup = BeautifulSoup(response.content, 'html.parser')\n",
        "    animal_sections = soup.find_all('span', {'class': 'mw-headline'})\n",
        "\n",
        "    data = []\n",
        "\n",
        "    for section in animal_sections:\n",
        "        # Extraindo o título do animal\n",
        "        animal_title = section.get_text()\n",
        "\n",
        "        # Excluir as superclasses\n",
        "        if 'Pokémon' in animal_title:\n",
        "            continue\n",
        "\n",
        "        table = section.find_next('table')\n",
        "        if table:\n",
        "            # Extraindo os Pokémon baseados\n",
        "            pokemon_list = [(link.text, animal_title) for link in table.find_all('a') if 'Pokémon' in link.get('title', '')]\n",
        "\n",
        "            if pokemon_list:\n",
        "                data.extend(pokemon_list)\n",
        "\n",
        "    # Criando DataFrame\n",
        "    df = pd.DataFrame(data, columns=['pokemon', 'specific_type'])\n",
        "    df = df.drop_duplicates(subset='pokemon', keep='first')\n",
        "    print(df)\n",
        "else:\n",
        "    print('Erro ao acessar a página.')\n"
      ],
      "metadata": {
        "colab": {
          "base_uri": "https://localhost:8080/"
        },
        "id": "pG2KbJKUidX5",
        "outputId": "bf982f29-70ab-4486-fdc5-3f8bae19ab44"
      },
      "execution_count": null,
      "outputs": [
        {
          "output_type": "stream",
          "name": "stdout",
          "text": [
            "           pokemon         specific_type\n",
            "0           Dreepy     Diplocaulus-based\n",
            "1         Drakloak     Diplocaulus-based\n",
            "2        Dragapult     Diplocaulus-based\n",
            "3        Bulbasaur  Frog- and toad-based\n",
            "4          Ivysaur  Frog- and toad-based\n",
            "...            ...                   ...\n",
            "1009     Amoonguss      Fly agaric-based\n",
            "1010  Brute Bonnet      Fly agaric-based\n",
            "1011     Shroomish      Geastrales-based\n",
            "1015     Toedscool        Wood ear-based\n",
            "1016    Toedscruel        Wood ear-based\n",
            "\n",
            "[765 rows x 2 columns]\n"
          ]
        }
      ]
    },
    {
      "cell_type": "markdown",
      "source": [
        "Dropando duplicatas"
      ],
      "metadata": {
        "id": "SO273vBMrUzA"
      }
    },
    {
      "cell_type": "code",
      "source": [
        "df = df.drop_duplicates(keep='first')"
      ],
      "metadata": {
        "id": "3iwhjzYVaUCy"
      },
      "execution_count": null,
      "outputs": []
    },
    {
      "cell_type": "code",
      "source": [
        "super_type_df = super_type_df.drop_duplicates(keep='first')"
      ],
      "metadata": {
        "id": "3BpAsa2SrIpk"
      },
      "execution_count": null,
      "outputs": []
    },
    {
      "cell_type": "markdown",
      "source": [
        "Mergiando tabelas"
      ],
      "metadata": {
        "id": "etAh_satucT8"
      }
    },
    {
      "cell_type": "code",
      "source": [
        "merged_df = pd.merge(df, super_type_df, on = 'pokemon' ,how ='left' )"
      ],
      "metadata": {
        "id": "HlTuIpm9rbvR"
      },
      "execution_count": null,
      "outputs": []
    },
    {
      "cell_type": "code",
      "source": [
        "duplicated = merged_df.duplicated('pokemon')\n",
        "df = merged_df.drop_duplicates(subset='pokemon', keep='first')"
      ],
      "metadata": {
        "id": "DiH2JcG6rfQy"
      },
      "execution_count": null,
      "outputs": []
    },
    {
      "cell_type": "code",
      "source": [
        "df = df.reset_index(drop=True)"
      ],
      "metadata": {
        "id": "EpxJEHbWt63X"
      },
      "execution_count": null,
      "outputs": []
    },
    {
      "cell_type": "code",
      "source": [
        "path = './content'"
      ],
      "metadata": {
        "id": "0JKD6cPxvApQ"
      },
      "execution_count": null,
      "outputs": []
    },
    {
      "cell_type": "code",
      "source": [
        "df.to_csv(path, index=False)"
      ],
      "metadata": {
        "id": "DyB3NA5RuVm0"
      },
      "execution_count": null,
      "outputs": []
    }
  ]
}