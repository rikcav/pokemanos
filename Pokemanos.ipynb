{
 "cells": [
  {
   "cell_type": "markdown",
   "id": "3bb26880-0b40-4a7d-a848-d01f0c09e096",
   "metadata": {},
   "source": [
    "#### Importação dos dados"
   ]
  },
  {
   "cell_type": "code",
   "execution_count": 75,
   "id": "59241f96-f83e-4771-bf47-7598022201f2",
   "metadata": {},
   "outputs": [],
   "source": [
    "import pandas as pd"
   ]
  },
  {
   "cell_type": "code",
   "execution_count": 76,
   "id": "4cd10100-6322-4b00-9503-2c31604d7d46",
   "metadata": {},
   "outputs": [],
   "source": [
    "pokemon = pd.read_csv('./data/pokemon.csv')\n",
    "types = pd.read_csv('./data/types.csv')[['identifier', 'color']]"
   ]
  },
  {
   "cell_type": "markdown",
   "id": "3bc6833b-3261-4b9f-82d5-4781c0440d7a",
   "metadata": {},
   "source": [
    "#### Tratamento de nulos"
   ]
  },
  {
   "cell_type": "code",
   "execution_count": 77,
   "id": "3687bbed-df35-4567-859b-9d56eb22e337",
   "metadata": {},
   "outputs": [],
   "source": [
    "pokemon['type2'].fillna(pokemon['type1'], inplace=True)"
   ]
  },
  {
   "cell_type": "markdown",
   "id": "b6d0b574-5d38-4703-8f64-64df2d12b491",
   "metadata": {},
   "source": [
    "#### Mescla de tabelas"
   ]
  },
  {
   "cell_type": "code",
   "execution_count": 78,
   "id": "412a0d95-1350-42b9-b967-b1183b2e1e4f",
   "metadata": {},
   "outputs": [],
   "source": [
    "merged_df = pd.merge(pokemon, types, left_on='type1', right_on='identifier', how='left')\n",
    "merged_df.rename(columns={'color': 'type1_color'}, inplace=True)\n",
    "\n",
    "merged_df = pd.merge(merged_df, types, left_on='type2', right_on='identifier', how='left')\n",
    "merged_df.rename(columns={'color': 'type2_color'}, inplace=True)\n",
    "\n",
    "# Drop dos identificadores\n",
    "merged_df = merged_df.drop(['identifier_x', 'identifier_y'], axis=1)\n",
    "\n",
    "pokemon = merged_df"
   ]
  },
  {
   "cell_type": "markdown",
   "id": "628217e7-9c3b-4bc1-993a-5b8dce809287",
   "metadata": {},
   "source": [
    "#### Tranformação dos hex codes em cores rgb"
   ]
  },
  {
   "cell_type": "code",
   "execution_count": 79,
   "id": "0b705bc3-26af-4897-92a5-bd6129d5558a",
   "metadata": {},
   "outputs": [],
   "source": [
    "# Função que transforma HEX em RGB\n",
    "def hex_to_rgb(hex_code):\n",
    "    hex_code = hex_code.lstrip('#')\n",
    "    r = int(hex_code[0:2], 16)\n",
    "    g = int(hex_code[2:4], 16)\n",
    "    b = int(hex_code[4:6], 16)\n",
    "    return r, g, b"
   ]
  },
  {
   "cell_type": "code",
   "execution_count": 80,
   "id": "413f5b6c-8124-4daa-b6df-5c15c6f7ece3",
   "metadata": {},
   "outputs": [],
   "source": [
    "# Criação de novas colunas para as cores RGB\n",
    "pokemon['type1_color_rgb'] = pokemon['type1_color'].apply(hex_to_rgb)\n",
    "pokemon['type2_color_rgb'] = pokemon['type2_color'].apply(hex_to_rgb)"
   ]
  },
  {
   "cell_type": "code",
   "execution_count": 81,
   "id": "223c8aee-e5c1-47fb-9a75-bf0387b41c0d",
   "metadata": {},
   "outputs": [],
   "source": [
    "# Criação de novas colunas(Red, Green, Blue) para cada cor\n",
    "pokemon['type1_color_red'] = pokemon['type1_color_rgb'].apply(lambda x: x[0])\n",
    "pokemon['type1_color_green'] = pokemon['type1_color_rgb'].apply(lambda x: x[1])\n",
    "pokemon['type1_color_blue'] = pokemon['type1_color_rgb'].apply(lambda x: x[2])\n",
    "\n",
    "pokemon['type2_color_red'] = pokemon['type2_color_rgb'].apply(lambda x: x[0])\n",
    "pokemon['type2_color_green'] = pokemon['type2_color_rgb'].apply(lambda x: x[1])\n",
    "pokemon['type2_color_blue'] = pokemon['type2_color_rgb'].apply(lambda x: x[2])"
   ]
  },
  {
   "cell_type": "code",
   "execution_count": 82,
   "id": "c87bb69a-83b9-4a94-8d11-7425b03d88c9",
   "metadata": {},
   "outputs": [],
   "source": [
    "# Drop das colunas antigas de cores\n",
    "pokemon = pokemon.drop(['type1_color','type2_color','type1_color_rgb','type2_color_rgb'], axis=1)"
   ]
  },
  {
   "cell_type": "markdown",
   "id": "6ff92aa6-4df3-40fd-9a61-5ab26cdecc62",
   "metadata": {},
   "source": [
    "#### Tratamento dos tipos de pokémon"
   ]
  },
  {
   "cell_type": "code",
   "execution_count": 83,
   "id": "f0269118-37cf-45d6-93cd-080fed119222",
   "metadata": {},
   "outputs": [],
   "source": [
    "# Criando união dos tipos únicos\n",
    "unique_types = set(pokemon['type1']).union(set(pokemon['type2']))"
   ]
  },
  {
   "cell_type": "code",
   "execution_count": 84,
   "id": "7f39994d-ca53-4a57-ac4e-0708b33971ed",
   "metadata": {},
   "outputs": [],
   "source": [
    "# One-hot encoding da coluna de tipos\n",
    "for type_col in unique_types:\n",
    "    pokemon[type_col] = (pokemon['type1'] == type_col) | (pokemon['type2'] == type_col)\n",
    "\n",
    "for type_col in unique_types:\n",
    "    pokemon[type_col] = pokemon[type_col].astype(int)"
   ]
  },
  {
   "cell_type": "code",
   "execution_count": 85,
   "id": "eae99570-cc4b-48a3-98eb-571199253c42",
   "metadata": {},
   "outputs": [],
   "source": [
    "# Drop das antigas colunas de tipos 1 e 2\n",
    "pokemon.drop(['type1', 'type2'], axis=1, inplace=True)"
   ]
  }
 ],
 "metadata": {
  "kernelspec": {
   "display_name": "Python 3 (ipykernel)",
   "language": "python",
   "name": "python3"
  },
  "language_info": {
   "codemirror_mode": {
    "name": "ipython",
    "version": 3
   },
   "file_extension": ".py",
   "mimetype": "text/x-python",
   "name": "python",
   "nbconvert_exporter": "python",
   "pygments_lexer": "ipython3",
   "version": "3.11.6"
  }
 },
 "nbformat": 4,
 "nbformat_minor": 5
}
