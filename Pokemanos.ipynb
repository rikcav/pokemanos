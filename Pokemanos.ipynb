{
 "cells": [
  {
   "cell_type": "markdown",
   "id": "3bb26880-0b40-4a7d-a848-d01f0c09e096",
   "metadata": {},
   "source": [
    "#### Importação dos dados"
   ]
  },
  {
   "cell_type": "code",
   "execution_count": 1,
   "id": "59241f96-f83e-4771-bf47-7598022201f2",
   "metadata": {},
   "outputs": [],
   "source": [
    "import pandas as pd"
   ]
  },
  {
   "cell_type": "code",
   "execution_count": 2,
   "id": "4cd10100-6322-4b00-9503-2c31604d7d46",
   "metadata": {},
   "outputs": [],
   "source": [
    "pokemon = pd.read_csv('./data/pokemon.csv')\n",
    "types = pd.read_csv('./data/types.csv')[['identifier', 'color']]"
   ]
  },
  {
   "cell_type": "markdown",
   "id": "3bc6833b-3261-4b9f-82d5-4781c0440d7a",
   "metadata": {},
   "source": [
    "#### Tratamento de nulos"
   ]
  },
  {
   "cell_type": "code",
   "execution_count": 3,
   "id": "3687bbed-df35-4567-859b-9d56eb22e337",
   "metadata": {},
   "outputs": [],
   "source": [
    "pokemon['type2'].fillna(pokemon['type1'], inplace=True)"
   ]
  },
  {
   "cell_type": "markdown",
   "id": "b6d0b574-5d38-4703-8f64-64df2d12b491",
   "metadata": {},
   "source": [
    "#### Mescla de tabelas"
   ]
  },
  {
   "cell_type": "code",
   "execution_count": 4,
   "id": "412a0d95-1350-42b9-b967-b1183b2e1e4f",
   "metadata": {},
   "outputs": [],
   "source": [
    "merged_df = pd.merge(pokemon, types, left_on='type1', right_on='identifier', how='left')\n",
    "merged_df.rename(columns={'color': 'type1_color'}, inplace=True)\n",
    "\n",
    "merged_df = pd.merge(merged_df, types, left_on='type2', right_on='identifier', how='left')\n",
    "merged_df.rename(columns={'color': 'type2_color'}, inplace=True)\n",
    "\n",
    "# Drop dos identificadores\n",
    "merged_df = merged_df.drop(['identifier_x', 'identifier_y'], axis=1)\n",
    "\n",
    "pokemon = merged_df"
   ]
  },
  {
   "cell_type": "markdown",
   "id": "628217e7-9c3b-4bc1-993a-5b8dce809287",
   "metadata": {},
   "source": [
    "#### Tranformação dos hex codes em cores rgb"
   ]
  },
  {
   "cell_type": "code",
   "execution_count": 5,
   "id": "0b705bc3-26af-4897-92a5-bd6129d5558a",
   "metadata": {},
   "outputs": [],
   "source": [
    "# Função que transforma HEX em RGB\n",
    "def hex_to_rgb(hex_code):\n",
    "    hex_code = hex_code.lstrip('#')\n",
    "    r = int(hex_code[0:2], 16)\n",
    "    g = int(hex_code[2:4], 16)\n",
    "    b = int(hex_code[4:6], 16)\n",
    "    return r, g, b"
   ]
  },
  {
   "cell_type": "code",
   "execution_count": 6,
   "id": "413f5b6c-8124-4daa-b6df-5c15c6f7ece3",
   "metadata": {},
   "outputs": [],
   "source": [
    "# Criação de novas colunas para as cores RGB\n",
    "pokemon['type1_color_rgb'] = pokemon['type1_color'].apply(hex_to_rgb)\n",
    "pokemon['type2_color_rgb'] = pokemon['type2_color'].apply(hex_to_rgb)"
   ]
  },
  {
   "cell_type": "code",
   "execution_count": 7,
   "id": "223c8aee-e5c1-47fb-9a75-bf0387b41c0d",
   "metadata": {},
   "outputs": [],
   "source": [
    "# Criação de novas colunas(Red, Green, Blue) para cada cor\n",
    "pokemon['type1_color_red'] = pokemon['type1_color_rgb'].apply(lambda x: x[0])\n",
    "pokemon['type1_color_green'] = pokemon['type1_color_rgb'].apply(lambda x: x[1])\n",
    "pokemon['type1_color_blue'] = pokemon['type1_color_rgb'].apply(lambda x: x[2])\n",
    "\n",
    "pokemon['type2_color_red'] = pokemon['type2_color_rgb'].apply(lambda x: x[0])\n",
    "pokemon['type2_color_green'] = pokemon['type2_color_rgb'].apply(lambda x: x[1])\n",
    "pokemon['type2_color_blue'] = pokemon['type2_color_rgb'].apply(lambda x: x[2])"
   ]
  },
  {
   "cell_type": "code",
   "execution_count": 8,
   "id": "c87bb69a-83b9-4a94-8d11-7425b03d88c9",
   "metadata": {},
   "outputs": [],
   "source": [
    "# Drop das colunas antigas de cores\n",
    "pokemon = pokemon.drop(['type1_color','type2_color','type1_color_rgb','type2_color_rgb'], axis=1)"
   ]
  },
  {
   "cell_type": "markdown",
   "id": "6ff92aa6-4df3-40fd-9a61-5ab26cdecc62",
   "metadata": {},
   "source": [
    "#### Tratamento dos tipos de pokémon"
   ]
  },
  {
   "cell_type": "code",
   "execution_count": 9,
   "id": "f0269118-37cf-45d6-93cd-080fed119222",
   "metadata": {},
   "outputs": [],
   "source": [
    "# Criando união dos tipos únicos\n",
    "unique_types = set(pokemon['type1']).union(set(pokemon['type2']))"
   ]
  },
  {
   "cell_type": "code",
   "execution_count": 10,
   "id": "7f39994d-ca53-4a57-ac4e-0708b33971ed",
   "metadata": {},
   "outputs": [],
   "source": [
    "# One-hot encoding da coluna de tipos\n",
    "for type_col in unique_types:\n",
    "    pokemon[type_col] = (pokemon['type1'] == type_col) | (pokemon['type2'] == type_col)\n",
    "\n",
    "for type_col in unique_types:\n",
    "    pokemon[type_col] = pokemon[type_col].astype(int)"
   ]
  },
  {
   "cell_type": "code",
   "execution_count": 11,
   "id": "eae99570-cc4b-48a3-98eb-571199253c42",
   "metadata": {},
   "outputs": [],
   "source": [
    "# Drop das antigas colunas de tipos 1 e 2\n",
    "pokemon.drop(['type1', 'type2'], axis=1, inplace=True)"
   ]
  },
  {
   "cell_type": "markdown",
   "id": "843face8-aba1-4b32-8a9c-b9b9e1d1c0a1",
   "metadata": {},
   "source": [
    "#### Tratamento das habilidades"
   ]
  },
  {
   "cell_type": "code",
   "execution_count": 12,
   "id": "20d13090-a706-4e22-a9f8-1d8a81fd0f54",
   "metadata": {},
   "outputs": [],
   "source": [
    "# Converter 'abilities' em uma lista de strings\n",
    "pokemon['abilities'] = pokemon['abilities'].apply(lambda x: eval(x))"
   ]
  },
  {
   "cell_type": "code",
   "execution_count": 13,
   "id": "5ce803f5-d24a-45ce-9264-9623d0df6685",
   "metadata": {},
   "outputs": [],
   "source": [
    "# Usar MLB para fazer one-hot encoding na coluna de habilidades\n",
    "from sklearn.preprocessing import MultiLabelBinarizer\n",
    "\n",
    "mlb = MultiLabelBinarizer()\n",
    "abilities_encoded = pd.DataFrame(mlb.fit_transform(pokemon['abilities']), columns=mlb.classes_, index=pokemon.index)\n",
    "\n",
    "# Concatenar as tabelas\n",
    "pokemon = pd.concat([pokemon, abilities_encoded], axis=1)\n",
    "\n",
    "# Drop da coluna original\n",
    "pokemon.drop('abilities', axis=1, inplace=True)\n",
    "\n",
    "# Renomeando as colunas\n",
    "pokemon.columns = pokemon.columns.str.lower().str.replace(' ', '_')"
   ]
  },
  {
   "cell_type": "code",
   "execution_count": 21,
   "id": "7a0ff187-403d-4536-978b-41d8f37bd113",
   "metadata": {},
   "outputs": [
    {
     "data": {
      "text/html": [
       "<div>\n",
       "<style scoped>\n",
       "    .dataframe tbody tr th:only-of-type {\n",
       "        vertical-align: middle;\n",
       "    }\n",
       "\n",
       "    .dataframe tbody tr th {\n",
       "        vertical-align: top;\n",
       "    }\n",
       "\n",
       "    .dataframe thead th {\n",
       "        text-align: right;\n",
       "    }\n",
       "</style>\n",
       "<table border=\"1\" class=\"dataframe\">\n",
       "  <thead>\n",
       "    <tr style=\"text-align: right;\">\n",
       "      <th></th>\n",
       "      <th>against_bug</th>\n",
       "      <th>against_dark</th>\n",
       "      <th>against_dragon</th>\n",
       "      <th>against_electric</th>\n",
       "      <th>against_fairy</th>\n",
       "      <th>against_fight</th>\n",
       "      <th>against_fire</th>\n",
       "      <th>against_flying</th>\n",
       "      <th>against_ghost</th>\n",
       "      <th>against_grass</th>\n",
       "      <th>...</th>\n",
       "      <th>water_absorb</th>\n",
       "      <th>water_bubble</th>\n",
       "      <th>water_compaction</th>\n",
       "      <th>water_veil</th>\n",
       "      <th>weak_armor</th>\n",
       "      <th>white_smoke</th>\n",
       "      <th>wimp_out</th>\n",
       "      <th>wonder_guard</th>\n",
       "      <th>wonder_skin_</th>\n",
       "      <th>zen_mode</th>\n",
       "    </tr>\n",
       "  </thead>\n",
       "  <tbody>\n",
       "    <tr>\n",
       "      <th>0</th>\n",
       "      <td>1.0</td>\n",
       "      <td>1.0</td>\n",
       "      <td>1.0</td>\n",
       "      <td>0.5</td>\n",
       "      <td>0.5</td>\n",
       "      <td>0.5</td>\n",
       "      <td>2.0</td>\n",
       "      <td>2.0</td>\n",
       "      <td>1.0</td>\n",
       "      <td>0.25</td>\n",
       "      <td>...</td>\n",
       "      <td>0</td>\n",
       "      <td>0</td>\n",
       "      <td>0</td>\n",
       "      <td>0</td>\n",
       "      <td>0</td>\n",
       "      <td>0</td>\n",
       "      <td>0</td>\n",
       "      <td>0</td>\n",
       "      <td>0</td>\n",
       "      <td>0</td>\n",
       "    </tr>\n",
       "    <tr>\n",
       "      <th>1</th>\n",
       "      <td>1.0</td>\n",
       "      <td>1.0</td>\n",
       "      <td>1.0</td>\n",
       "      <td>0.5</td>\n",
       "      <td>0.5</td>\n",
       "      <td>0.5</td>\n",
       "      <td>2.0</td>\n",
       "      <td>2.0</td>\n",
       "      <td>1.0</td>\n",
       "      <td>0.25</td>\n",
       "      <td>...</td>\n",
       "      <td>0</td>\n",
       "      <td>0</td>\n",
       "      <td>0</td>\n",
       "      <td>0</td>\n",
       "      <td>0</td>\n",
       "      <td>0</td>\n",
       "      <td>0</td>\n",
       "      <td>0</td>\n",
       "      <td>0</td>\n",
       "      <td>0</td>\n",
       "    </tr>\n",
       "    <tr>\n",
       "      <th>2</th>\n",
       "      <td>1.0</td>\n",
       "      <td>1.0</td>\n",
       "      <td>1.0</td>\n",
       "      <td>0.5</td>\n",
       "      <td>0.5</td>\n",
       "      <td>0.5</td>\n",
       "      <td>2.0</td>\n",
       "      <td>2.0</td>\n",
       "      <td>1.0</td>\n",
       "      <td>0.25</td>\n",
       "      <td>...</td>\n",
       "      <td>0</td>\n",
       "      <td>0</td>\n",
       "      <td>0</td>\n",
       "      <td>0</td>\n",
       "      <td>0</td>\n",
       "      <td>0</td>\n",
       "      <td>0</td>\n",
       "      <td>0</td>\n",
       "      <td>0</td>\n",
       "      <td>0</td>\n",
       "    </tr>\n",
       "  </tbody>\n",
       "</table>\n",
       "<p>3 rows × 289 columns</p>\n",
       "</div>"
      ],
      "text/plain": [
       "   against_bug  against_dark  against_dragon  against_electric  against_fairy  \\\n",
       "0          1.0           1.0             1.0               0.5            0.5   \n",
       "1          1.0           1.0             1.0               0.5            0.5   \n",
       "2          1.0           1.0             1.0               0.5            0.5   \n",
       "\n",
       "   against_fight  against_fire  against_flying  against_ghost  against_grass  \\\n",
       "0            0.5           2.0             2.0            1.0           0.25   \n",
       "1            0.5           2.0             2.0            1.0           0.25   \n",
       "2            0.5           2.0             2.0            1.0           0.25   \n",
       "\n",
       "   ...  water_absorb  water_bubble  water_compaction  water_veil  weak_armor  \\\n",
       "0  ...             0             0                 0           0           0   \n",
       "1  ...             0             0                 0           0           0   \n",
       "2  ...             0             0                 0           0           0   \n",
       "\n",
       "   white_smoke  wimp_out  wonder_guard  wonder_skin_  zen_mode  \n",
       "0            0         0             0             0         0  \n",
       "1            0         0             0             0         0  \n",
       "2            0         0             0             0         0  \n",
       "\n",
       "[3 rows x 289 columns]"
      ]
     },
     "execution_count": 21,
     "metadata": {},
     "output_type": "execute_result"
    }
   ],
   "source": [
    "pokemon.head(3)"
   ]
  }
 ],
 "metadata": {
  "kernelspec": {
   "display_name": "Python 3 (ipykernel)",
   "language": "python",
   "name": "python3"
  },
  "language_info": {
   "codemirror_mode": {
    "name": "ipython",
    "version": 3
   },
   "file_extension": ".py",
   "mimetype": "text/x-python",
   "name": "python",
   "nbconvert_exporter": "python",
   "pygments_lexer": "ipython3",
   "version": "3.11.6"
  }
 },
 "nbformat": 4,
 "nbformat_minor": 5
}
