{
 "cells": [
  {
   "cell_type": "markdown",
   "id": "3bb26880-0b40-4a7d-a848-d01f0c09e096",
   "metadata": {},
   "source": [
    "#### Importação dos dados"
   ]
  },
  {
   "cell_type": "code",
   "execution_count": 56,
   "id": "59241f96-f83e-4771-bf47-7598022201f2",
   "metadata": {},
   "outputs": [],
   "source": [
    "import pandas as pd"
   ]
  },
  {
   "cell_type": "code",
   "execution_count": 57,
   "id": "4cd10100-6322-4b00-9503-2c31604d7d46",
   "metadata": {},
   "outputs": [],
   "source": [
    "pokemon = pd.read_csv('./data/pokemon.csv')\n",
    "colors = pd.read_csv('./data/colors.csv')[['name', 'hex1', 'hex2', 'hex3']]"
   ]
  },
  {
   "cell_type": "markdown",
   "id": "3bc6833b-3261-4b9f-82d5-4781c0440d7a",
   "metadata": {},
   "source": [
    "#### Tratamento de nulos"
   ]
  },
  {
   "cell_type": "code",
   "execution_count": 58,
   "id": "3687bbed-df35-4567-859b-9d56eb22e337",
   "metadata": {},
   "outputs": [],
   "source": [
    "pokemon['type2'].fillna(pokemon['type1'], inplace=True)\n",
    "pokemon['height_m'].fillna(pokemon['height_m'].mean(), inplace=True)\n",
    "pokemon['percentage_male'].fillna(pokemon['height_m'].mean(), inplace=True)\n",
    "pokemon['weight_kg'].fillna(pokemon['height_m'].mean(), inplace=True)"
   ]
  },
  {
   "cell_type": "markdown",
   "id": "b6d0b574-5d38-4703-8f64-64df2d12b491",
   "metadata": {},
   "source": [
    "#### Mescla de tabelas"
   ]
  },
  {
   "cell_type": "code",
   "execution_count": 59,
   "id": "412a0d95-1350-42b9-b967-b1183b2e1e4f",
   "metadata": {},
   "outputs": [],
   "source": [
    "merged_df = pd.merge(pokemon, colors, left_on='name', right_on='name', how='left')\n",
    "\n",
    "# Drop da coluna Unnamed: 0\n",
    "# merged_df = merged_df.drop(['Unnamed: 0'], axis=1)\n",
    "\n",
    "pokemon = merged_df"
   ]
  },
  {
   "cell_type": "markdown",
   "id": "628217e7-9c3b-4bc1-993a-5b8dce809287",
   "metadata": {},
   "source": [
    "#### Tranformação dos hex codes em cores rgb"
   ]
  },
  {
   "cell_type": "code",
   "execution_count": 60,
   "id": "0b705bc3-26af-4897-92a5-bd6129d5558a",
   "metadata": {},
   "outputs": [],
   "source": [
    "# Função que transforma HEX em RGB\n",
    "def hex_to_rgb(hex_code):\n",
    "    hex_code = hex_code.lstrip('#')\n",
    "    r = int(hex_code[0:2], 16)\n",
    "    g = int(hex_code[2:4], 16)\n",
    "    b = int(hex_code[4:6], 16)\n",
    "    return r, g, b"
   ]
  },
  {
   "cell_type": "code",
   "execution_count": 61,
   "id": "413f5b6c-8124-4daa-b6df-5c15c6f7ece3",
   "metadata": {},
   "outputs": [],
   "source": [
    "# Criação de novas colunas para as cores RGB\n",
    "pokemon['rgb1'] = pokemon['hex1'].apply(hex_to_rgb)\n",
    "pokemon['rgb2'] = pokemon['hex2'].apply(hex_to_rgb)\n",
    "pokemon['rgb3'] = pokemon['hex3'].apply(hex_to_rgb)"
   ]
  },
  {
   "cell_type": "code",
   "execution_count": 62,
   "id": "80de8499-f8a8-4d69-8ba9-31d02d66fb65",
   "metadata": {},
   "outputs": [
    {
     "data": {
      "text/html": [
       "<div>\n",
       "<style scoped>\n",
       "    .dataframe tbody tr th:only-of-type {\n",
       "        vertical-align: middle;\n",
       "    }\n",
       "\n",
       "    .dataframe tbody tr th {\n",
       "        vertical-align: top;\n",
       "    }\n",
       "\n",
       "    .dataframe thead th {\n",
       "        text-align: right;\n",
       "    }\n",
       "</style>\n",
       "<table border=\"1\" class=\"dataframe\">\n",
       "  <thead>\n",
       "    <tr style=\"text-align: right;\">\n",
       "      <th></th>\n",
       "      <th>abilities</th>\n",
       "      <th>against_bug</th>\n",
       "      <th>against_dark</th>\n",
       "      <th>against_dragon</th>\n",
       "      <th>against_electric</th>\n",
       "      <th>against_fairy</th>\n",
       "      <th>against_fight</th>\n",
       "      <th>against_fire</th>\n",
       "      <th>against_flying</th>\n",
       "      <th>against_ghost</th>\n",
       "      <th>...</th>\n",
       "      <th>type2</th>\n",
       "      <th>weight_kg</th>\n",
       "      <th>generation</th>\n",
       "      <th>is_legendary</th>\n",
       "      <th>hex1</th>\n",
       "      <th>hex2</th>\n",
       "      <th>hex3</th>\n",
       "      <th>rgb1</th>\n",
       "      <th>rgb2</th>\n",
       "      <th>rgb3</th>\n",
       "    </tr>\n",
       "  </thead>\n",
       "  <tbody>\n",
       "    <tr>\n",
       "      <th>0</th>\n",
       "      <td>['Overgrow', 'Chlorophyll']</td>\n",
       "      <td>1.0</td>\n",
       "      <td>1.0</td>\n",
       "      <td>1.0</td>\n",
       "      <td>0.5</td>\n",
       "      <td>0.5</td>\n",
       "      <td>0.5</td>\n",
       "      <td>2.0</td>\n",
       "      <td>2.0</td>\n",
       "      <td>1.0</td>\n",
       "      <td>...</td>\n",
       "      <td>poison</td>\n",
       "      <td>6.9</td>\n",
       "      <td>1</td>\n",
       "      <td>0</td>\n",
       "      <td>#399494</td>\n",
       "      <td>#62D5B4</td>\n",
       "      <td>#83EEC5</td>\n",
       "      <td>(57, 148, 148)</td>\n",
       "      <td>(98, 213, 180)</td>\n",
       "      <td>(131, 238, 197)</td>\n",
       "    </tr>\n",
       "    <tr>\n",
       "      <th>1</th>\n",
       "      <td>['Overgrow', 'Chlorophyll']</td>\n",
       "      <td>1.0</td>\n",
       "      <td>1.0</td>\n",
       "      <td>1.0</td>\n",
       "      <td>0.5</td>\n",
       "      <td>0.5</td>\n",
       "      <td>0.5</td>\n",
       "      <td>2.0</td>\n",
       "      <td>2.0</td>\n",
       "      <td>1.0</td>\n",
       "      <td>...</td>\n",
       "      <td>poison</td>\n",
       "      <td>13.0</td>\n",
       "      <td>1</td>\n",
       "      <td>0</td>\n",
       "      <td>#5ACDBD</td>\n",
       "      <td>#209483</td>\n",
       "      <td>#317B52</td>\n",
       "      <td>(90, 205, 189)</td>\n",
       "      <td>(32, 148, 131)</td>\n",
       "      <td>(49, 123, 82)</td>\n",
       "    </tr>\n",
       "    <tr>\n",
       "      <th>2</th>\n",
       "      <td>['Overgrow', 'Chlorophyll']</td>\n",
       "      <td>1.0</td>\n",
       "      <td>1.0</td>\n",
       "      <td>1.0</td>\n",
       "      <td>0.5</td>\n",
       "      <td>0.5</td>\n",
       "      <td>0.5</td>\n",
       "      <td>2.0</td>\n",
       "      <td>2.0</td>\n",
       "      <td>1.0</td>\n",
       "      <td>...</td>\n",
       "      <td>poison</td>\n",
       "      <td>100.0</td>\n",
       "      <td>1</td>\n",
       "      <td>0</td>\n",
       "      <td>#20B49C</td>\n",
       "      <td>#5AD5C5</td>\n",
       "      <td>#FF7B73</td>\n",
       "      <td>(32, 180, 156)</td>\n",
       "      <td>(90, 213, 197)</td>\n",
       "      <td>(255, 123, 115)</td>\n",
       "    </tr>\n",
       "  </tbody>\n",
       "</table>\n",
       "<p>3 rows × 47 columns</p>\n",
       "</div>"
      ],
      "text/plain": [
       "                     abilities  against_bug  against_dark  against_dragon  \\\n",
       "0  ['Overgrow', 'Chlorophyll']          1.0           1.0             1.0   \n",
       "1  ['Overgrow', 'Chlorophyll']          1.0           1.0             1.0   \n",
       "2  ['Overgrow', 'Chlorophyll']          1.0           1.0             1.0   \n",
       "\n",
       "   against_electric  against_fairy  against_fight  against_fire  \\\n",
       "0               0.5            0.5            0.5           2.0   \n",
       "1               0.5            0.5            0.5           2.0   \n",
       "2               0.5            0.5            0.5           2.0   \n",
       "\n",
       "   against_flying  against_ghost  ...   type2  weight_kg  generation  \\\n",
       "0             2.0            1.0  ...  poison        6.9           1   \n",
       "1             2.0            1.0  ...  poison       13.0           1   \n",
       "2             2.0            1.0  ...  poison      100.0           1   \n",
       "\n",
       "   is_legendary     hex1     hex2     hex3            rgb1            rgb2  \\\n",
       "0             0  #399494  #62D5B4  #83EEC5  (57, 148, 148)  (98, 213, 180)   \n",
       "1             0  #5ACDBD  #209483  #317B52  (90, 205, 189)  (32, 148, 131)   \n",
       "2             0  #20B49C  #5AD5C5  #FF7B73  (32, 180, 156)  (90, 213, 197)   \n",
       "\n",
       "              rgb3  \n",
       "0  (131, 238, 197)  \n",
       "1    (49, 123, 82)  \n",
       "2  (255, 123, 115)  \n",
       "\n",
       "[3 rows x 47 columns]"
      ]
     },
     "execution_count": 62,
     "metadata": {},
     "output_type": "execute_result"
    }
   ],
   "source": [
    "pokemon.head(3)"
   ]
  },
  {
   "cell_type": "code",
   "execution_count": 63,
   "id": "02fbb817-4fc2-46fb-a256-9324d69b03a6",
   "metadata": {},
   "outputs": [],
   "source": [
    "# Drop das colunas de HEX\n",
    "pokemon = pokemon.drop(['hex1', 'hex2', 'hex3'], axis=1)"
   ]
  },
  {
   "cell_type": "code",
   "execution_count": 64,
   "id": "223c8aee-e5c1-47fb-9a75-bf0387b41c0d",
   "metadata": {},
   "outputs": [],
   "source": [
    "# Criação de novas colunas(Red, Green, Blue) para cada cor\n",
    "pokemon['red1'] = pokemon['rgb1'].apply(lambda x: x[0])\n",
    "pokemon['green1'] = pokemon['rgb1'].apply(lambda x: x[1])\n",
    "pokemon['blue1'] = pokemon['rgb1'].apply(lambda x: x[2])\n",
    "\n",
    "pokemon['red2'] = pokemon['rgb2'].apply(lambda x: x[0])\n",
    "pokemon['green2'] = pokemon['rgb2'].apply(lambda x: x[1])\n",
    "pokemon['blue2'] = pokemon['rgb2'].apply(lambda x: x[2])\n",
    "\n",
    "pokemon['red3'] = pokemon['rgb3'].apply(lambda x: x[0])\n",
    "pokemon['green3'] = pokemon['rgb3'].apply(lambda x: x[1])\n",
    "pokemon['blue3'] = pokemon['rgb3'].apply(lambda x: x[2])"
   ]
  },
  {
   "cell_type": "code",
   "execution_count": 65,
   "id": "c87bb69a-83b9-4a94-8d11-7425b03d88c9",
   "metadata": {},
   "outputs": [],
   "source": [
    "# Drop das colunas antigas de RGB\n",
    "pokemon = pokemon.drop(['rgb1','rgb2','rgb3'], axis=1)"
   ]
  },
  {
   "cell_type": "markdown",
   "id": "6ff92aa6-4df3-40fd-9a61-5ab26cdecc62",
   "metadata": {},
   "source": [
    "#### Tratamento dos tipos de pokémon"
   ]
  },
  {
   "cell_type": "code",
   "execution_count": 66,
   "id": "f0269118-37cf-45d6-93cd-080fed119222",
   "metadata": {},
   "outputs": [],
   "source": [
    "# Criando união dos tipos únicos\n",
    "unique_types = set(pokemon['type1']).union(set(pokemon['type2']))"
   ]
  },
  {
   "cell_type": "code",
   "execution_count": 67,
   "id": "7f39994d-ca53-4a57-ac4e-0708b33971ed",
   "metadata": {},
   "outputs": [],
   "source": [
    "# One-hot encoding da coluna de tipos\n",
    "for type_col in unique_types:\n",
    "    pokemon[type_col] = (pokemon['type1'] == type_col) | (pokemon['type2'] == type_col)\n",
    "\n",
    "for type_col in unique_types:\n",
    "    pokemon[type_col] = pokemon[type_col].astype(int)"
   ]
  },
  {
   "cell_type": "code",
   "execution_count": 68,
   "id": "eae99570-cc4b-48a3-98eb-571199253c42",
   "metadata": {},
   "outputs": [],
   "source": [
    "# Drop das antigas colunas de tipos 1 e 2\n",
    "pokemon.drop(['type1', 'type2'], axis=1, inplace=True)"
   ]
  },
  {
   "cell_type": "markdown",
   "id": "843face8-aba1-4b32-8a9c-b9b9e1d1c0a1",
   "metadata": {},
   "source": [
    "#### Tratamento das habilidades"
   ]
  },
  {
   "cell_type": "code",
   "execution_count": 69,
   "id": "20d13090-a706-4e22-a9f8-1d8a81fd0f54",
   "metadata": {},
   "outputs": [],
   "source": [
    "# Converter 'abilities' em uma lista de strings\n",
    "pokemon['abilities'] = pokemon['abilities'].apply(lambda x: eval(x))"
   ]
  },
  {
   "cell_type": "code",
   "execution_count": 70,
   "id": "5ce803f5-d24a-45ce-9264-9623d0df6685",
   "metadata": {},
   "outputs": [],
   "source": [
    "# Usar MLB para fazer one-hot encoding na coluna de habilidades\n",
    "from sklearn.preprocessing import MultiLabelBinarizer\n",
    "\n",
    "mlb = MultiLabelBinarizer()\n",
    "abilities_encoded = pd.DataFrame(mlb.fit_transform(pokemon['abilities']), columns=mlb.classes_, index=pokemon.index)\n",
    "\n",
    "# Concatenar as tabelas\n",
    "pokemon = pd.concat([pokemon, abilities_encoded], axis=1)\n",
    "\n",
    "# Drop da coluna original\n",
    "pokemon.drop('abilities', axis=1, inplace=True)\n",
    "\n",
    "# Renomeando as colunas\n",
    "pokemon.columns = pokemon.columns.str.lower().str.replace(' ', '_')"
   ]
  }
 ],
 "metadata": {
  "kernelspec": {
   "display_name": "Python 3 (ipykernel)",
   "language": "python",
   "name": "python3"
  },
  "language_info": {
   "codemirror_mode": {
    "name": "ipython",
    "version": 3
   },
   "file_extension": ".py",
   "mimetype": "text/x-python",
   "name": "python",
   "nbconvert_exporter": "python",
   "pygments_lexer": "ipython3",
   "version": "3.11.6"
  }
 },
 "nbformat": 4,
 "nbformat_minor": 5
}
