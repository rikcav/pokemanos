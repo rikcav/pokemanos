{
 "cells": [
  {
   "cell_type": "markdown",
   "id": "3bb26880-0b40-4a7d-a848-d01f0c09e096",
   "metadata": {},
   "source": [
    "#### Importação dos dados"
   ]
  },
  {
   "cell_type": "code",
   "execution_count": 1,
   "id": "59241f96-f83e-4771-bf47-7598022201f2",
   "metadata": {},
   "outputs": [],
   "source": [
    "import pandas as pd"
   ]
  },
  {
   "cell_type": "code",
   "execution_count": 2,
   "id": "4cd10100-6322-4b00-9503-2c31604d7d46",
   "metadata": {},
   "outputs": [],
   "source": [
    "pokemon = pd.read_csv('./data/pokemon.csv')\n",
    "colors = pd.read_csv('./data/colors.csv')[['name', 'hex1', 'hex2', 'hex3']]"
   ]
  },
  {
   "cell_type": "markdown",
   "id": "3bc6833b-3261-4b9f-82d5-4781c0440d7a",
   "metadata": {},
   "source": [
    "#### Tratamento de nulos"
   ]
  },
  {
   "cell_type": "code",
   "execution_count": 3,
   "id": "3687bbed-df35-4567-859b-9d56eb22e337",
   "metadata": {},
   "outputs": [],
   "source": [
    "pokemon['type2'].fillna(pokemon['type1'], inplace=True)\n",
    "pokemon['height_m'].fillna(pokemon['height_m'].median(), inplace=True)\n",
    "pokemon['percentage_male'].fillna(pokemon['percentage_male'].median(), inplace=True)\n",
    "pokemon['weight_kg'].fillna(pokemon['weight_kg'].median(), inplace=True)"
   ]
  },
  {
   "cell_type": "markdown",
   "id": "b6d0b574-5d38-4703-8f64-64df2d12b491",
   "metadata": {},
   "source": [
    "#### Mescla de tabelas"
   ]
  },
  {
   "cell_type": "code",
   "execution_count": 4,
   "id": "412a0d95-1350-42b9-b967-b1183b2e1e4f",
   "metadata": {},
   "outputs": [],
   "source": [
    "merged_df = pd.merge(pokemon, colors, left_on='name', right_on='name', how='left')\n",
    "pokemon = merged_df"
   ]
  },
  {
   "cell_type": "markdown",
   "id": "628217e7-9c3b-4bc1-993a-5b8dce809287",
   "metadata": {},
   "source": [
    "#### Tranformação dos hex codes em cores rgb"
   ]
  },
  {
   "cell_type": "code",
   "execution_count": 5,
   "id": "0b705bc3-26af-4897-92a5-bd6129d5558a",
   "metadata": {},
   "outputs": [],
   "source": [
    "# Função que transforma HEX em RGB\n",
    "def hex_to_rgb(hex_code):\n",
    "    hex_code = hex_code.lstrip('#')\n",
    "    r = int(hex_code[0:2], 16)\n",
    "    g = int(hex_code[2:4], 16)\n",
    "    b = int(hex_code[4:6], 16)\n",
    "    return r, g, b"
   ]
  },
  {
   "cell_type": "code",
   "execution_count": 6,
   "id": "413f5b6c-8124-4daa-b6df-5c15c6f7ece3",
   "metadata": {},
   "outputs": [],
   "source": [
    "# Criação de novas colunas para as cores RGB\n",
    "pokemon['rgb1'] = pokemon['hex1'].apply(hex_to_rgb)\n",
    "pokemon['rgb2'] = pokemon['hex2'].apply(hex_to_rgb)\n",
    "pokemon['rgb3'] = pokemon['hex3'].apply(hex_to_rgb)"
   ]
  },
  {
   "cell_type": "code",
   "execution_count": 7,
   "id": "02fbb817-4fc2-46fb-a256-9324d69b03a6",
   "metadata": {},
   "outputs": [],
   "source": [
    "# Drop das colunas de HEX\n",
    "pokemon = pokemon.drop(['hex1', 'hex2', 'hex3'], axis=1)"
   ]
  },
  {
   "cell_type": "code",
   "execution_count": 8,
   "id": "223c8aee-e5c1-47fb-9a75-bf0387b41c0d",
   "metadata": {},
   "outputs": [],
   "source": [
    "# Criação de novas colunas(Red, Green, Blue) para cada cor\n",
    "pokemon['red1'] = pokemon['rgb1'].apply(lambda x: x[0])\n",
    "pokemon['green1'] = pokemon['rgb1'].apply(lambda x: x[1])\n",
    "pokemon['blue1'] = pokemon['rgb1'].apply(lambda x: x[2])\n",
    "\n",
    "pokemon['red2'] = pokemon['rgb2'].apply(lambda x: x[0])\n",
    "pokemon['green2'] = pokemon['rgb2'].apply(lambda x: x[1])\n",
    "pokemon['blue2'] = pokemon['rgb2'].apply(lambda x: x[2])\n",
    "\n",
    "pokemon['red3'] = pokemon['rgb3'].apply(lambda x: x[0])\n",
    "pokemon['green3'] = pokemon['rgb3'].apply(lambda x: x[1])\n",
    "pokemon['blue3'] = pokemon['rgb3'].apply(lambda x: x[2])"
   ]
  },
  {
   "cell_type": "code",
   "execution_count": 9,
   "id": "c87bb69a-83b9-4a94-8d11-7425b03d88c9",
   "metadata": {},
   "outputs": [],
   "source": [
    "# Drop das colunas antigas de RGB\n",
    "pokemon = pokemon.drop(['rgb1','rgb2','rgb3'], axis=1)"
   ]
  },
  {
   "cell_type": "code",
   "execution_count": 10,
   "id": "0f8cd6de-a44c-46ad-8c53-cddf3d28216d",
   "metadata": {},
   "outputs": [],
   "source": [
    "# Tratamento da coluna capture_rate\n",
    "pokemon['capture_rate'] = pd.to_numeric(pokemon['capture_rate'], errors='coerce')"
   ]
  },
  {
   "cell_type": "markdown",
   "id": "1e321254-9baf-4028-9bf8-c4457133b1f2",
   "metadata": {},
   "source": [
    "#### Coisas úteis para visualização de dados"
   ]
  },
  {
   "cell_type": "code",
   "execution_count": 11,
   "id": "f00a20d5-80de-454e-a9a0-4f5f75be33ca",
   "metadata": {},
   "outputs": [],
   "source": [
    "# import matplotlib.pyplot as plt\n",
    "\n",
    "# # pokemon[(pokemon['generation'] == 6)]['type1'].value_counts().plot(kind='pie')\n",
    "# pokemon.groupby('type1')['sp_defense'].mean().plot(kind='bar')"
   ]
  },
  {
   "cell_type": "code",
   "execution_count": 12,
   "id": "e8fd150c-0199-444e-ba6f-ad048be72775",
   "metadata": {},
   "outputs": [],
   "source": [
    "# pokemon.groupby('type2')['sp_defense'].mean().plot(kind='bar')"
   ]
  },
  {
   "cell_type": "markdown",
   "id": "6ff92aa6-4df3-40fd-9a61-5ab26cdecc62",
   "metadata": {},
   "source": [
    "#### Tratamento dos tipos de pokémon"
   ]
  },
  {
   "cell_type": "code",
   "execution_count": 13,
   "id": "f0269118-37cf-45d6-93cd-080fed119222",
   "metadata": {},
   "outputs": [],
   "source": [
    "# Criando união dos tipos únicos\n",
    "unique_types = set(pokemon['type1']).union(set(pokemon['type2']))"
   ]
  },
  {
   "cell_type": "code",
   "execution_count": 14,
   "id": "7f39994d-ca53-4a57-ac4e-0708b33971ed",
   "metadata": {},
   "outputs": [],
   "source": [
    "# One-hot encoding da coluna de tipos\n",
    "for type_col in unique_types:\n",
    "    pokemon[type_col] = (pokemon['type1'] == type_col) | (pokemon['type2'] == type_col)\n",
    "\n",
    "for type_col in unique_types:\n",
    "    pokemon[type_col] = pokemon[type_col].astype(int)"
   ]
  },
  {
   "cell_type": "code",
   "execution_count": 15,
   "id": "eae99570-cc4b-48a3-98eb-571199253c42",
   "metadata": {},
   "outputs": [],
   "source": [
    "# Drop das antigas colunas de tipos 1 e 2\n",
    "pokemon.drop(['type1', 'type2'], axis=1, inplace=True)"
   ]
  },
  {
   "cell_type": "markdown",
   "id": "843face8-aba1-4b32-8a9c-b9b9e1d1c0a1",
   "metadata": {},
   "source": [
    "#### Tratamento das habilidades"
   ]
  },
  {
   "cell_type": "code",
   "execution_count": 16,
   "id": "20d13090-a706-4e22-a9f8-1d8a81fd0f54",
   "metadata": {},
   "outputs": [],
   "source": [
    "# # Converter 'abilities' em uma lista de strings\n",
    "# pokemon['abilities'] = pokemon['abilities'].apply(lambda x: eval(x))"
   ]
  },
  {
   "cell_type": "code",
   "execution_count": 17,
   "id": "5ce803f5-d24a-45ce-9264-9623d0df6685",
   "metadata": {},
   "outputs": [],
   "source": [
    "# # Usar MLB para fazer one-hot encoding na coluna de habilidades\n",
    "# from sklearn.preprocessing import MultiLabelBinarizer\n",
    "\n",
    "# mlb = MultiLabelBinarizer()\n",
    "# abilities_encoded = pd.DataFrame(mlb.fit_transform(pokemon['abilities']), columns=mlb.classes_, index=pokemon.index)\n",
    "\n",
    "# # Concatenar as tabelas\n",
    "# pokemon = pd.concat([pokemon, abilities_encoded], axis=1)\n",
    "\n",
    "# # Drop da coluna original\n",
    "# pokemon.drop('abilities', axis=1, inplace=True)\n",
    "\n",
    "# # Renomeando as colunas\n",
    "# pokemon.columns = pokemon.columns.str.lower().str.replace(' ', '_')"
   ]
  },
  {
   "cell_type": "code",
   "execution_count": 18,
   "id": "4ac03acf-f9b0-4831-88cc-341705b5515e",
   "metadata": {},
   "outputs": [],
   "source": [
    "pokemon.drop(['height_m', 'name', 'japanese_name', 'pokedex_number', 'percentage_male',\n",
    "              'classfication', 'base_egg_steps', 'base_happiness', 'abilities',\n",
    "              'experience_growth', 'defense', 'base_total', 'speed'], axis=1, inplace=True)"
   ]
  },
  {
   "cell_type": "code",
   "execution_count": 19,
   "id": "7b71e58e-30af-45f5-9b2e-0250825a65fd",
   "metadata": {},
   "outputs": [],
   "source": [
    "for column in pokemon.columns:\n",
    "    pokemon[column] = pd.to_numeric(pokemon[column], errors='coerce')"
   ]
  },
  {
   "cell_type": "code",
   "execution_count": 20,
   "id": "9594a335-708e-44c2-adcd-6d24770616b3",
   "metadata": {},
   "outputs": [],
   "source": [
    "pokemon['capture_rate'].fillna(pokemon['capture_rate'].median(), inplace=True)"
   ]
  },
  {
   "cell_type": "code",
   "execution_count": 21,
   "id": "945629ff-008f-4348-beab-3bb8b584bf2d",
   "metadata": {},
   "outputs": [
    {
     "data": {
      "text/plain": [
       "False"
      ]
     },
     "execution_count": 21,
     "metadata": {},
     "output_type": "execute_result"
    }
   ],
   "source": [
    "not 0 in pokemon.isna().sum().tolist()"
   ]
  },
  {
   "cell_type": "code",
   "execution_count": 22,
   "id": "7a783962-a154-4614-ad3d-6655d5079d19",
   "metadata": {},
   "outputs": [],
   "source": [
    "X = pokemon.drop(['grass', 'rock', 'psychic', 'normal', 'bug', 'fire', 'flying', 'electric', 'dark', 'dragon', 'poison', 'water', 'fighting', 'fairy', 'ice', 'ground', 'ghost', 'steel'], axis=1)"
   ]
  },
  {
   "cell_type": "code",
   "execution_count": 23,
   "id": "3ade4ff6-bea8-44e7-b554-2a7875a7fe9b",
   "metadata": {},
   "outputs": [],
   "source": [
    "y = pokemon[['grass', 'rock', 'psychic', 'normal', 'bug', 'fire', 'flying', 'electric', 'dark', 'dragon', 'poison', 'water', 'fighting', 'fairy', 'ice', 'ground', 'ghost', 'steel']]"
   ]
  },
  {
   "cell_type": "code",
   "execution_count": 24,
   "id": "4c156791-7bc6-4169-951b-5f41859ab743",
   "metadata": {},
   "outputs": [
    {
     "data": {
      "text/html": [
       "<div>\n",
       "<style scoped>\n",
       "    .dataframe tbody tr th:only-of-type {\n",
       "        vertical-align: middle;\n",
       "    }\n",
       "\n",
       "    .dataframe tbody tr th {\n",
       "        vertical-align: top;\n",
       "    }\n",
       "\n",
       "    .dataframe thead th {\n",
       "        text-align: right;\n",
       "    }\n",
       "</style>\n",
       "<table border=\"1\" class=\"dataframe\">\n",
       "  <thead>\n",
       "    <tr style=\"text-align: right;\">\n",
       "      <th></th>\n",
       "      <th>against_bug</th>\n",
       "      <th>against_dark</th>\n",
       "      <th>against_dragon</th>\n",
       "      <th>against_electric</th>\n",
       "      <th>against_fairy</th>\n",
       "      <th>against_fight</th>\n",
       "      <th>against_fire</th>\n",
       "      <th>against_flying</th>\n",
       "      <th>against_ghost</th>\n",
       "      <th>against_grass</th>\n",
       "      <th>...</th>\n",
       "      <th>is_legendary</th>\n",
       "      <th>red1</th>\n",
       "      <th>green1</th>\n",
       "      <th>blue1</th>\n",
       "      <th>red2</th>\n",
       "      <th>green2</th>\n",
       "      <th>blue2</th>\n",
       "      <th>red3</th>\n",
       "      <th>green3</th>\n",
       "      <th>blue3</th>\n",
       "    </tr>\n",
       "  </thead>\n",
       "  <tbody>\n",
       "    <tr>\n",
       "      <th>0</th>\n",
       "      <td>1.0</td>\n",
       "      <td>1.0</td>\n",
       "      <td>1.0</td>\n",
       "      <td>0.5</td>\n",
       "      <td>0.5</td>\n",
       "      <td>0.5</td>\n",
       "      <td>2.0</td>\n",
       "      <td>2.0</td>\n",
       "      <td>1.0</td>\n",
       "      <td>0.25</td>\n",
       "      <td>...</td>\n",
       "      <td>0</td>\n",
       "      <td>57</td>\n",
       "      <td>148</td>\n",
       "      <td>148</td>\n",
       "      <td>98</td>\n",
       "      <td>213</td>\n",
       "      <td>180</td>\n",
       "      <td>131</td>\n",
       "      <td>238</td>\n",
       "      <td>197</td>\n",
       "    </tr>\n",
       "    <tr>\n",
       "      <th>1</th>\n",
       "      <td>1.0</td>\n",
       "      <td>1.0</td>\n",
       "      <td>1.0</td>\n",
       "      <td>0.5</td>\n",
       "      <td>0.5</td>\n",
       "      <td>0.5</td>\n",
       "      <td>2.0</td>\n",
       "      <td>2.0</td>\n",
       "      <td>1.0</td>\n",
       "      <td>0.25</td>\n",
       "      <td>...</td>\n",
       "      <td>0</td>\n",
       "      <td>90</td>\n",
       "      <td>205</td>\n",
       "      <td>189</td>\n",
       "      <td>32</td>\n",
       "      <td>148</td>\n",
       "      <td>131</td>\n",
       "      <td>49</td>\n",
       "      <td>123</td>\n",
       "      <td>82</td>\n",
       "    </tr>\n",
       "    <tr>\n",
       "      <th>2</th>\n",
       "      <td>1.0</td>\n",
       "      <td>1.0</td>\n",
       "      <td>1.0</td>\n",
       "      <td>0.5</td>\n",
       "      <td>0.5</td>\n",
       "      <td>0.5</td>\n",
       "      <td>2.0</td>\n",
       "      <td>2.0</td>\n",
       "      <td>1.0</td>\n",
       "      <td>0.25</td>\n",
       "      <td>...</td>\n",
       "      <td>0</td>\n",
       "      <td>32</td>\n",
       "      <td>180</td>\n",
       "      <td>156</td>\n",
       "      <td>90</td>\n",
       "      <td>213</td>\n",
       "      <td>197</td>\n",
       "      <td>255</td>\n",
       "      <td>123</td>\n",
       "      <td>115</td>\n",
       "    </tr>\n",
       "    <tr>\n",
       "      <th>3</th>\n",
       "      <td>0.5</td>\n",
       "      <td>1.0</td>\n",
       "      <td>1.0</td>\n",
       "      <td>1.0</td>\n",
       "      <td>0.5</td>\n",
       "      <td>1.0</td>\n",
       "      <td>0.5</td>\n",
       "      <td>1.0</td>\n",
       "      <td>1.0</td>\n",
       "      <td>0.50</td>\n",
       "      <td>...</td>\n",
       "      <td>0</td>\n",
       "      <td>255</td>\n",
       "      <td>148</td>\n",
       "      <td>65</td>\n",
       "      <td>222</td>\n",
       "      <td>82</td>\n",
       "      <td>57</td>\n",
       "      <td>255</td>\n",
       "      <td>213</td>\n",
       "      <td>123</td>\n",
       "    </tr>\n",
       "    <tr>\n",
       "      <th>4</th>\n",
       "      <td>0.5</td>\n",
       "      <td>1.0</td>\n",
       "      <td>1.0</td>\n",
       "      <td>1.0</td>\n",
       "      <td>0.5</td>\n",
       "      <td>1.0</td>\n",
       "      <td>0.5</td>\n",
       "      <td>1.0</td>\n",
       "      <td>1.0</td>\n",
       "      <td>0.50</td>\n",
       "      <td>...</td>\n",
       "      <td>0</td>\n",
       "      <td>205</td>\n",
       "      <td>57</td>\n",
       "      <td>57</td>\n",
       "      <td>255</td>\n",
       "      <td>82</td>\n",
       "      <td>74</td>\n",
       "      <td>255</td>\n",
       "      <td>65</td>\n",
       "      <td>0</td>\n",
       "    </tr>\n",
       "  </tbody>\n",
       "</table>\n",
       "<p>5 rows × 35 columns</p>\n",
       "</div>"
      ],
      "text/plain": [
       "   against_bug  against_dark  against_dragon  against_electric  against_fairy  \\\n",
       "0          1.0           1.0             1.0               0.5            0.5   \n",
       "1          1.0           1.0             1.0               0.5            0.5   \n",
       "2          1.0           1.0             1.0               0.5            0.5   \n",
       "3          0.5           1.0             1.0               1.0            0.5   \n",
       "4          0.5           1.0             1.0               1.0            0.5   \n",
       "\n",
       "   against_fight  against_fire  against_flying  against_ghost  against_grass  \\\n",
       "0            0.5           2.0             2.0            1.0           0.25   \n",
       "1            0.5           2.0             2.0            1.0           0.25   \n",
       "2            0.5           2.0             2.0            1.0           0.25   \n",
       "3            1.0           0.5             1.0            1.0           0.50   \n",
       "4            1.0           0.5             1.0            1.0           0.50   \n",
       "\n",
       "   ...  is_legendary  red1  green1  blue1  red2  green2  blue2  red3  green3  \\\n",
       "0  ...             0    57     148    148    98     213    180   131     238   \n",
       "1  ...             0    90     205    189    32     148    131    49     123   \n",
       "2  ...             0    32     180    156    90     213    197   255     123   \n",
       "3  ...             0   255     148     65   222      82     57   255     213   \n",
       "4  ...             0   205      57     57   255      82     74   255      65   \n",
       "\n",
       "   blue3  \n",
       "0    197  \n",
       "1     82  \n",
       "2    115  \n",
       "3    123  \n",
       "4      0  \n",
       "\n",
       "[5 rows x 35 columns]"
      ]
     },
     "execution_count": 24,
     "metadata": {},
     "output_type": "execute_result"
    }
   ],
   "source": [
    "X.head()"
   ]
  },
  {
   "cell_type": "code",
   "execution_count": 25,
   "id": "27549671-608e-4181-89df-8deae9161974",
   "metadata": {},
   "outputs": [],
   "source": [
    "pd.set_option('display.max_columns', None)"
   ]
  },
  {
   "cell_type": "code",
   "execution_count": 26,
   "id": "ffd04013-8b99-482f-afd3-35a70d0b90b6",
   "metadata": {},
   "outputs": [],
   "source": [
    "from sklearn.preprocessing import Normalizer\n",
    "\n",
    "norm_X = Normalizer().fit_transform(X)\n",
    "norm_y = Normalizer().fit_transform(y)"
   ]
  },
  {
   "cell_type": "code",
   "execution_count": 27,
   "id": "710a770b-02fa-4be5-83b9-7cd205fc8d0b",
   "metadata": {},
   "outputs": [],
   "source": [
    "from sklearn.model_selection import train_test_split"
   ]
  },
  {
   "cell_type": "code",
   "execution_count": 28,
   "id": "21b8eca4-6f7b-47b3-b89b-e8179d2ff6ee",
   "metadata": {},
   "outputs": [],
   "source": [
    "X_train, X_test, y_train, y_test = train_test_split(norm_X, norm_y, test_size=0.20, random_state=30)"
   ]
  },
  {
   "cell_type": "code",
   "execution_count": 29,
   "id": "f30a1fa4-5c83-4078-8169-a2de89b2063e",
   "metadata": {},
   "outputs": [],
   "source": [
    "from sklearn.linear_model import LinearRegression"
   ]
  },
  {
   "cell_type": "code",
   "execution_count": 30,
   "id": "16f78ac4-bca9-4833-95d3-ef240038f071",
   "metadata": {},
   "outputs": [],
   "source": [
    "reg = LinearRegression().fit(X_train, y_train)"
   ]
  },
  {
   "cell_type": "code",
   "execution_count": 31,
   "id": "2a1a726d-0c6b-406b-8ada-1e776e6abaee",
   "metadata": {},
   "outputs": [],
   "source": [
    "y_pred = reg.predict(X_test)"
   ]
  },
  {
   "cell_type": "code",
   "execution_count": 32,
   "id": "c1c00693-d2cb-4c64-ac5f-f6a19027579f",
   "metadata": {},
   "outputs": [],
   "source": [
    "from sklearn.metrics import mean_absolute_error, mean_squared_error, r2_score"
   ]
  },
  {
   "cell_type": "code",
   "execution_count": 33,
   "id": "917c42a6-db33-43be-9aa7-dae459e3179c",
   "metadata": {},
   "outputs": [
    {
     "data": {
      "text/plain": [
       "0.07321913760773027"
      ]
     },
     "execution_count": 33,
     "metadata": {},
     "output_type": "execute_result"
    }
   ],
   "source": [
    "mean_absolute_error(y_test, y_pred)"
   ]
  },
  {
   "cell_type": "code",
   "execution_count": 34,
   "id": "2395feb0-6be1-49a9-971d-51d54367f45f",
   "metadata": {},
   "outputs": [
    {
     "data": {
      "text/plain": [
       "0.011587340736029881"
      ]
     },
     "execution_count": 34,
     "metadata": {},
     "output_type": "execute_result"
    }
   ],
   "source": [
    "mean_squared_error(y_test, y_pred)"
   ]
  },
  {
   "cell_type": "code",
   "execution_count": 35,
   "id": "e163e1ef-e4b4-45c0-a9b2-aae2a942033e",
   "metadata": {},
   "outputs": [
    {
     "data": {
      "text/plain": [
       "0.10764451094240654"
      ]
     },
     "execution_count": 35,
     "metadata": {},
     "output_type": "execute_result"
    }
   ],
   "source": [
    "mean_squared_error(y_test, y_pred) ** (1/2)"
   ]
  },
  {
   "cell_type": "code",
   "execution_count": 36,
   "id": "63386c2b-acb8-4fdd-81f4-063cdf15cae8",
   "metadata": {},
   "outputs": [
    {
     "data": {
      "text/plain": [
       "0.7226884738488828"
      ]
     },
     "execution_count": 36,
     "metadata": {},
     "output_type": "execute_result"
    }
   ],
   "source": [
    "r2_score(y_test, y_pred)"
   ]
  }
 ],
 "metadata": {
  "kernelspec": {
   "display_name": "Python 3 (ipykernel)",
   "language": "python",
   "name": "python3"
  },
  "language_info": {
   "codemirror_mode": {
    "name": "ipython",
    "version": 3
   },
   "file_extension": ".py",
   "mimetype": "text/x-python",
   "name": "python",
   "nbconvert_exporter": "python",
   "pygments_lexer": "ipython3",
   "version": "3.11.6"
  }
 },
 "nbformat": 4,
 "nbformat_minor": 5
}
